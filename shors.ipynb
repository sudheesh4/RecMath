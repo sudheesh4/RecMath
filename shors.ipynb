{
 "cells": [
  {
   "cell_type": "code",
   "execution_count": 2,
   "id": "70390a06",
   "metadata": {},
   "outputs": [],
   "source": [
    "from qiskit.aqua.algorithms import Shor\n",
    "from qiskit.aqua import QuantumInstance\n",
    "import numpy as np\n",
    "from qiskit import Aer,QuantumCircuit,execute #simulation_machine_backend, code, run code on sim_mach\n",
    "from qiskit.tools.visualization import plot_histogram"
   ]
  },
  {
   "cell_type": "code",
   "execution_count": 4,
   "id": "bb92829b",
   "metadata": {},
   "outputs": [],
   "source": [
    "backend=Aer.get_backend(\"qasm_simulator\")\n",
    "quantum_instance=QuantumInstance(backend,shots=100)"
   ]
  },
  {
   "cell_type": "code",
   "execution_count": 15,
   "id": "8761aaff",
   "metadata": {},
   "outputs": [
    {
     "data": {
      "text/plain": [
       "{'factors': [3], 'total_counts': 0, 'successful_counts': 0}"
      ]
     },
     "execution_count": 15,
     "metadata": {},
     "output_type": "execute_result"
    }
   ],
   "source": [
    "my_shor=Shor(N=27,a=2,quantum_instance=quantum_instance)\n",
    "Shor.run(my_shor)"
   ]
  },
  {
   "cell_type": "code",
   "execution_count": 17,
   "id": "9489b053",
   "metadata": {},
   "outputs": [
    {
     "data": {
      "text/plain": [
       "''"
      ]
     },
     "execution_count": 17,
     "metadata": {},
     "output_type": "execute_result"
    }
   ],
   "source": [
    "\"\"\"\n",
    "convert factor problem into period-finding problem using modular-exponentiation-function\n",
    "naively: divide the number by guess number a, then computing the remainder\n",
    "for good guesses of a ==> the remainder is periodic with power of a \n",
    "\n",
    "then we use quantum fourier tranform to find period\n",
    "\n",
    "\n",
    "once we have period we can find factors as:\n",
    "\n",
    "N=>trying to factor\n",
    "a=>guess\n",
    "r=period of mod exp function\n",
    "\n",
    "p=a^(r/2) -1\n",
    "q=a^(r/2)+1\n",
    "\n",
    "\n",
    "\n",
    "\"\"\"\n",
    "#\n",
    "\"\""
   ]
  },
  {
   "cell_type": "code",
   "execution_count": 60,
   "id": "f6e93123",
   "metadata": {},
   "outputs": [],
   "source": [
    "def c_amod15(a,power):#modular exponention\n",
    "    U=QuantumCircuit(4)\n",
    "    for interation in range(power):\n",
    "        U.swap(2,3)\n",
    "        U.swap(1,2)\n",
    "        U.swap(0,1)\n",
    "        for q in range(4):\n",
    "            U.x(q)\n",
    "    U=U.to_gate()\n",
    "    U.name='%i^%i mod 12'%(a,power)\n",
    "    c_U=U.control()\n",
    "    return c_U\n",
    "\n",
    "def qft_dagger(n):#quantum foureier transform\n",
    "    qc=QuantumCircuit(n)\n",
    "    for qubit in range(n//2):\n",
    "        qc.swap(qubit,n-qubit-1)\n",
    "    for j in range(n):\n",
    "        for m in range(j):\n",
    "            qc.cu1(-np.pi/float(2**(j-m)),m,j)\n",
    "        qc.h(j)\n",
    "    qc.name=\"QFT dagger\"\n",
    "    return qc"
   ]
  },
  {
   "cell_type": "code",
   "execution_count": 61,
   "id": "07571093",
   "metadata": {},
   "outputs": [],
   "source": [
    "n_count=8#number of qubit\n",
    "a=7\n",
    "\n"
   ]
  },
  {
   "cell_type": "code",
   "execution_count": 62,
   "id": "f2961e82",
   "metadata": {},
   "outputs": [
    {
     "name": "stderr",
     "output_type": "stream",
     "text": [
      "C:\\Users\\sud4d\\AppData\\Local\\Temp/ipykernel_16864/3253818677.py:20: DeprecationWarning: The QuantumCircuit.cu1 method is deprecated as of 0.16.0. It will be removed no earlier than 3 months after the release date. You should use the QuantumCircuit.cp method instead, which acts identically.\n",
      "  qc.cu1(-np.pi/float(2**(j-m)),m,j)\n"
     ]
    },
    {
     "data": {
      "text/plain": [
       "<qiskit.circuit.instructionset.InstructionSet at 0x2ad01bc4a00>"
      ]
     },
     "execution_count": 62,
     "metadata": {},
     "output_type": "execute_result"
    }
   ],
   "source": [
    "#solve factoring using quantum shor\n",
    "\n",
    "\n",
    "qc=QuantumCircuit(n_count+4,n_count)\n",
    "\n",
    "#prepare qbits\n",
    "\n",
    "for q in range(n_count):\n",
    "    qc.h(q)\n",
    "qc.x(3+n_count)\n",
    "\n",
    "\n",
    "#modular exponentiation\n",
    "for q in  range(n_count):\n",
    "    qc.append(c_amod15(a,2**q),[q]+[i+n_count for i in range(4)])\n",
    "\n",
    "#quantum foureier transform \n",
    "qc.append(qft_dagger(n_count),range(n_count))\n",
    "\n",
    "\n",
    "#measure\n",
    "qc.measure(range(n_count),range(n_count))"
   ]
  },
  {
   "cell_type": "code",
   "execution_count": 63,
   "id": "d2bfaad7",
   "metadata": {},
   "outputs": [],
   "source": [
    "#qc.draw()"
   ]
  },
  {
   "cell_type": "code",
   "execution_count": 64,
   "id": "631c2c71",
   "metadata": {
    "scrolled": true
   },
   "outputs": [
    {
     "data": {
      "image/png": "[encoded data removed]",
      "text/plain": [
       "<Figure size 504x360 with 1 Axes>"
      ]
     },
     "execution_count": 64,
     "metadata": {},
     "output_type": "execute_result"
    }
   ],
   "source": [
    "backend=Aer.get_backend(\"qasm_simulator\")\n",
    "results=execute(qc,backend,shots=2048).result()\n",
    "plot_histogram(results.get_counts())"
   ]
  },
  {
   "cell_type": "code",
   "execution_count": 41,
   "id": "af819fd8",
   "metadata": {},
   "outputs": [
    {
     "data": {
      "text/plain": [
       "''"
      ]
     },
     "execution_count": 41,
     "metadata": {},
     "output_type": "execute_result"
    }
   ],
   "source": [
    "\"\"\"\n",
    "so we get 0, 2, 4...\n",
    "\n",
    "now we get options for r=1,2,4\n",
    "use them to get p,q\n",
    "p,q, will have common factors with N\n",
    "\"\"\"\n",
    "#\n",
    "\"\""
   ]
  },
  {
   "cell_type": "code",
   "execution_count": 43,
   "id": "a5376056",
   "metadata": {},
   "outputs": [
    {
     "data": {
      "text/plain": [
       "''"
      ]
     },
     "execution_count": 43,
     "metadata": {},
     "output_type": "execute_result"
    }
   ],
   "source": [
    "\"\"\"\n",
    "\n",
    "Given a funcion that is periodic find its period\n",
    "strict def: f(x)\n",
    "f(x)=f(y) for xnot equal y iff |x-y|=kp  where  p is period\n",
    "\n",
    "classically: O(exp c n^1/3 logn^2/3)  n=#bits needed to descibe period\n",
    "quantum: shor  O(n^2 logn loglogn)\n",
    "\n",
    "reason why work:\n",
    "1)quantum fourier transform\n",
    "2)modular exponential\n",
    "\n",
    "\"\"\"\n",
    "#\n",
    "\n",
    "\"\""
   ]
  },
  {
   "cell_type": "code",
   "execution_count": 53,
   "id": "e786d81e",
   "metadata": {},
   "outputs": [],
   "source": [
    "\"\"\"\n",
    "quantum fourier transform:\n",
    "\n",
    "            Effectively a change of basis from computational basis to fourier basis\n",
    "\n",
    "    eg \n",
    "        1-qubit: comp basis{|0>,|1>} ######## foureier basis{|+>,|->}   ====> for 1qubit happens by hadamard gate\n",
    "        2-qubit: comp basis{00,01,10,11} ####### foureier basis {.......}\n",
    "        \n",
    "    in computational basis=> each qubit on blochspehere moves between north and south 00->01->10->11\n",
    "    in fourier basis eachqubit rotates continously on bloch sphere==> coordinated circles are mapped on blochsperere in fourere basis\n",
    "\n",
    "\"\"\"\n",
    "#\n",
    "\"\"\"\n",
    "Build qft\n",
    "\n",
    "nqubits:  N=2^n states comp basis\n",
    "|X> fourier transform of |x> (compbasis)\n",
    "\n",
    "|X>=(1/\\sqrt (N))\\sum_{y=0}^{y=N-1}  e^(2pi x*y/N)|y>      say y=4=00000100  8qubit\n",
    "\"\"\"\n",
    "#\n",
    "\"\"\"\n",
    "|X>=(1/\\sqrt (N))\\sum_{y=0}^{y=N-1}  e^(2pi x*y/N)|y> \n",
    "N=2^n      y=[y1 y2 y3 ....]       y=2^(n-1)y1 +2^(n-2)y2 +2^(n-3)y3 ......\n",
    "\n",
    "y=\\sum_{k=1}^{n} yk 2^(n-k)\n",
    "\n",
    "|X>=(1/\\sqrt (N))\\sum_{y=0}^{y=N-1} \\product_k  e^(2pi x*yk /2^k) |y1 y2 ....yn>\n",
    "|X>=(1/\\sqrt (N))(|0>+e^(2pi x/2)|1>)(|0>+e^(2pi x/2^2)|1>)(|0>+e^(2pi x/2^3)|1>)......\n",
    "\"\"\"\n",
    "#\n",
    "\"\"\"\n",
    "Quantum circuit for qft:\n",
    "        two ingredients\n",
    "                1) H|xk>=|+> or |-> when xk=0 or 1\n",
    "                2) Urotk|xj>= (e^2pi i xj/2^k)|xj>  xj=0==> |xj>->urotk|xj>=urotk|0>=|0>    xj=1===>|xj>->urotk|xj>=e^2pi i /2 |1>\n",
    "                        Urotk=[[1 0][0 e^(2pi i /(2^k))]]\n",
    "            \n",
    "\n",
    "-H--U-U-U--------------\n",
    "----.-----H-U--U-------\n",
    "------.-----.----H--U--\n",
    "--------.------.----.--\n",
    "\n",
    "\"\"\"\n",
    "noqub=3\n",
    "qc=QuantumCircuit(noqub)\n"
   ]
  },
  {
   "cell_type": "code",
   "execution_count": 54,
   "id": "57612b2f",
   "metadata": {},
   "outputs": [
    {
     "data": {
      "text/plain": [
       "'\\n'"
      ]
     },
     "execution_count": 54,
     "metadata": {},
     "output_type": "execute_result"
    }
   ],
   "source": [
    "\"\"\"\n",
    "Quantum phase estimation:\n",
    "\n",
    "        using qft to do something useful (quantum foureier transform)\n",
    "    problem: unitary matrix have eigenvalues as e^(i theta)\n",
    "                U|psi>=e^(i theta) |psi>\n",
    "                \n",
    "                can we extract theta, if we have ability to prepare |psi> and apply U ? theta is global phase\n",
    "                \n",
    "    solution: yes use QPE\n",
    "    QPE trick==>\n",
    "    \n",
    "    |0>------H-------.----H----measure\n",
    "    |psi>------------U---------\n",
    "    \n",
    "    \n",
    "    \n",
    "    step0: |0>|psi>\n",
    "    step1: (|0>+|1>)|psi>\n",
    "    step2:  (|0>|psi>+ (ph)|1>|psi>)    ph=e^(i theta)\n",
    "    step3:   {|0>(1+ph) +|1>(1-ph)}|psi>\n",
    "    \n",
    "    \n",
    "    prob of measuring ==> |0> |1>\n",
    "\n",
    "theta\n",
    "1                        0.999 0.000\n",
    "10                       0.992 0.007\n",
    "\n",
    "we have encoded the phase in the prob difference between 0 and 1 states\n",
    "\n",
    "\n",
    "\n",
    "above we were having capability to prepare |psi> and use U then using 1qubit we could extract theta /phase info\n",
    "we can use multiple qubit to extract\n",
    "\n",
    "\n",
    "000 -----H--.---.---.-------------------H--- measureall3\n",
    "    -----H-------------.--.--.----------H---\n",
    "    -----H----------------------.--.--.-H---\n",
    "    \n",
    "    --------U_4---U_2----U_1---U_4-u_2-u_1--u_4--u_2--u_1------\n",
    "\n",
    "\"\"\"\n",
    "#\n",
    "\"\"\"\n",
    "\"\"\""
   ]
  },
  {
   "cell_type": "code",
   "execution_count": 56,
   "id": "e1ef5ab6",
   "metadata": {},
   "outputs": [
    {
     "data": {
      "text/plain": [
       "''"
      ]
     },
     "execution_count": 56,
     "metadata": {},
     "output_type": "execute_result"
    }
   ],
   "source": [
    "\"\"\"\n",
    "Shors\n",
    "\n",
    "problem: N=p*q  p,q are prime and large\n",
    "\n",
    "\n",
    "5~ 2(mod 3)\n",
    "\n",
    "x= 1 2 3 4 5 6 7 8 9 \n",
    "x~ 1 2 0 1 2 0 1 2 0   (mod 3)\n",
    "x~0(mod3) ==> x is multiple of 3\n",
    "x~1(mod3) ==> x is (multiple_of3 +1)\n",
    "\n",
    "x~y(mod N) means y is one of {0,1,....N-1}\n",
    "\n",
    "shors algo protocol:\n",
    "N= p*q\n",
    "1)pick 'a' such that coprime with N\n",
    "2)find the 'order' r of the function a^r (mod N)      order is period     smallest r such that a^r ~1(mod N)\n",
    "3) if r is even : good news\n",
    "        x~a^(r/2) (mod N)\n",
    "        if x+1 not~ 0(mod N) :good news\n",
    "            {p,q} contained in {gcd(x+1,N),gcd(x-1,N)}\n",
    "    else\n",
    "        find another 'a'\n",
    "\n",
    "\n",
    "\"\"\"\n",
    "#\n",
    "\"\""
   ]
  },
  {
   "cell_type": "code",
   "execution_count": 65,
   "id": "b4decf88",
   "metadata": {},
   "outputs": [
    {
     "data": {
      "text/plain": [
       "''"
      ]
     },
     "execution_count": 65,
     "metadata": {},
     "output_type": "execute_result"
    }
   ],
   "source": [
    "\"\"\"\n",
    "example: factor 15\n",
    "\n",
    "    N=15   in binary = 1111 in binary==>4 bits\n",
    "    \n",
    "    \n",
    "    1) pick a=13\n",
    "    2)period (13^r) mod 15\n",
    "                        x = 0 1 2 3 4 5 6 7.....\n",
    "             13^x (mod 15)= 1 13 4 7 1 13 4 7...\n",
    "             \n",
    "             r= smallestnumber such that a^r~1(mod N)\n",
    "             \n",
    "             here r=4\n",
    "             period =r =4\n",
    "    3)if r is even:\n",
    "            x ~a^r/2 (mod N)= 13^(4/2) (mod 15)=4(mod15)\n",
    "            x+1=5\n",
    "            x-1=3\n",
    "            \n",
    "            \n",
    "U_f{a,N}\n",
    "==>f(x)_{a,N} =a^x (mod N)\n",
    "\n",
    "|x>|w>--U_f---|x>|w+f(x)>\n",
    "\n",
    "circuit for factoring N=pq=15\n",
    "|0000>---H---|          -------------\n",
    "    -----H---|          -------------QFT_dag  measure\n",
    "    -----H---|          -------------\n",
    "    -----H---|          -------------\n",
    "|0000>          U_f{a,N}\n",
    "    _________|          _____\n",
    "    _________|          ______measure\n",
    "    _________|          ______\n",
    "    _________|          _____\n",
    "\n",
    "\"\"\"\n",
    "#\n",
    "\"\""
   ]
  },
  {
   "cell_type": "code",
   "execution_count": null,
   "id": "f347f20a",
   "metadata": {},
   "outputs": [],
   "source": []
  }
 ],
 "metadata": {
  "kernelspec": {
   "display_name": "Python 3 (ipykernel)",
   "language": "python",
   "name": "python3"
  },
  "language_info": {
   "codemirror_mode": {
    "name": "ipython",
    "version": 3
   },
   "file_extension": ".py",
   "mimetype": "text/x-python",
   "name": "python",
   "nbconvert_exporter": "python",
   "pygments_lexer": "ipython3",
   "version": "3.9.7"
  }
 },
 "nbformat": 4,
 "nbformat_minor": 5
}
