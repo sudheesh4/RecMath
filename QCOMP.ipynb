{
 "cells": [
  {
   "cell_type": "code",
   "execution_count": 2,
   "id": "a0658403",
   "metadata": {},
   "outputs": [
    {
     "data": {
      "text/plain": [
       "'\\nQuantum support vector machine:\\nclassify sets of data base on features\\n'"
      ]
     },
     "execution_count": 2,
     "metadata": {},
     "output_type": "execute_result"
    }
   ],
   "source": [
    "\"\"\"\n",
    "Variation quantum eigensolver: \n",
    "solve for ground-state energy of molecule efficiently\n",
    "\"\"\"\n",
    "\n",
    "\"\"\"\n",
    "Quantum support vector machine:\n",
    "classify sets of data base on features\n",
    "\"\"\""
   ]
  },
  {
   "cell_type": "code",
   "execution_count": 3,
   "id": "72f44bc9",
   "metadata": {},
   "outputs": [],
   "source": [
    "##FOURIER CHECKING CIRUIT##"
   ]
  },
  {
   "cell_type": "code",
   "execution_count": 4,
   "id": "3491856c",
   "metadata": {},
   "outputs": [],
   "source": [
    "import qiskit.quantum_info as qi\n",
    "from qiskit.circuit.library import FourierChecking#FC\n",
    "from qiskit.visualization import plot_histogram"
   ]
  },
  {
   "cell_type": "code",
   "execution_count": 5,
   "id": "a0d7cef6",
   "metadata": {},
   "outputs": [],
   "source": [
    "##Two functions: nothing but lists\n",
    "f=[1,-1,-1,-1]\n",
    "g=[1,1,-1,-1]\n",
    "#FC tells how correlated fourier transform of g is to f\n"
   ]
  },
  {
   "cell_type": "code",
   "execution_count": 6,
   "id": "348e9313",
   "metadata": {},
   "outputs": [
    {
     "data": {
      "text/html": [
       "<pre style=\"word-wrap: normal;white-space: pre;background: #fff0;line-height: 1.1;font-family: &quot;Courier New&quot;,Courier,monospace\">     ┌──────────────────────────────────────┐\n",
       "q_0: ┤0                                     ├\n",
       "     │  fc: [1, -1, -1, -1], [1, 1, -1, -1] │\n",
       "q_1: ┤1                                     ├\n",
       "     └──────────────────────────────────────┘</pre>"
      ],
      "text/plain": [
       "     ┌──────────────────────────────────────┐\n",
       "q_0: ┤0                                     ├\n",
       "     │  fc: [1, -1, -1, -1], [1, 1, -1, -1] │\n",
       "q_1: ┤1                                     ├\n",
       "     └──────────────────────────────────────┘"
      ]
     },
     "execution_count": 6,
     "metadata": {},
     "output_type": "execute_result"
    }
   ],
   "source": [
    "circ=FourierChecking(f=f,g=g)\n",
    "circ.draw()"
   ]
  },
  {
   "cell_type": "code",
   "execution_count": 10,
   "id": "c3d395ef",
   "metadata": {},
   "outputs": [
    {
     "data": {
      "image/png": "[encoded data removed]",
      "text/plain": [
       "<Figure size 504x360 with 1 Axes>"
      ]
     },
     "execution_count": 10,
     "metadata": {},
     "output_type": "execute_result"
    }
   ],
   "source": [
    "zero=qi.Statevector.from_label('00')\n",
    "sv=zero.evolve(circ)\n",
    "probs=sv.probabilities_dict()\n",
    "plot_histogram(probs) #if prob>0.05 ==> f,g are correlated      here we look for p(0,0)"
   ]
  },
  {
   "cell_type": "code",
   "execution_count": 11,
   "id": "b8e2cb4a",
   "metadata": {},
   "outputs": [
    {
     "data": {
      "text/plain": [
       "'\\nGrovers algo\\n'"
      ]
     },
     "execution_count": 11,
     "metadata": {},
     "output_type": "execute_result"
    }
   ],
   "source": [
    "\"\"\"\n",
    "Grovers algo\n",
    "\"\"\""
   ]
  },
  {
   "cell_type": "code",
   "execution_count": 14,
   "id": "2bf8ba05",
   "metadata": {},
   "outputs": [
    {
     "name": "stdout",
     "output_type": "stream",
     "text": [
      "Winner found at 8\n",
      "#Calls 9\n"
     ]
    }
   ],
   "source": [
    "my_list=[1,3,5,2,7,9,1,3,0,4,6,8]#unsorted list and we want to locate a 'w'=7 (say)\n",
    "def oracle(my_input): #classical oracle===> return true if input is winner\n",
    "    winner=0\n",
    "    if my_input is winner:\n",
    "        res=True\n",
    "    else:\n",
    "        res=False\n",
    "    return res\n",
    "\n",
    "for ind,num in enumerate(my_list):\n",
    "    if oracle(num):\n",
    "        print(\"Winner found at %i\"%ind)\n",
    "        print(\"#Calls %i\"%(ind+1))\n",
    "        break\n",
    "###We see that in worst case O(N) call N=len(my_list)\n",
    "###with quantum we can make it O(N^0.5) \n"
   ]
  },
  {
   "cell_type": "code",
   "execution_count": 20,
   "id": "7e6eac01",
   "metadata": {},
   "outputs": [
    {
     "data": {
      "text/plain": [
       "\"\\nFor grover: \\noracle==> flip the sign of input if input is the winner \\neg: for 2-qubit {00,01,10,11}  suppose (11) is winner\\n\\n=> (1,1)->oracle->(-1,1)\\n\\nusing reflection and controlled-z gate\\n\\nreflection also for amplitude amplification\\nGrover's diffusion operator=>combination of reflection+oracle\\n\\n\""
      ]
     },
     "execution_count": 20,
     "metadata": {},
     "output_type": "execute_result"
    }
   ],
   "source": [
    "\"\"\"\n",
    "For grover: \n",
    "oracle==> flip the sign of input if input is the winner \n",
    "eg: for 2-qubit {00,01,10,11}  suppose (11) is winner\n",
    "\n",
    "=> (1,1)->oracle->(-1,1)\n",
    "\n",
    "using reflection and controlled-z gate\n",
    "\n",
    "reflection also for amplitude amplification\n",
    "Grover's diffusion operator=>combination of reflection+oracle\n",
    "\n",
    "\"\"\""
   ]
  },
  {
   "cell_type": "code",
   "execution_count": 21,
   "id": "0092c3a8",
   "metadata": {},
   "outputs": [],
   "source": [
    "from qiskit import *\n",
    "import matplotlib.pyplot as plt\n",
    "import numpy as np\n"
   ]
  },
  {
   "cell_type": "code",
   "execution_count": 22,
   "id": "b2128363",
   "metadata": {},
   "outputs": [
    {
     "data": {
      "text/html": [
       "<pre style=\"word-wrap: normal;white-space: pre;background: #fff0;line-height: 1.1;font-family: &quot;Courier New&quot;,Courier,monospace\">        \n",
       "q_0: ─■─\n",
       "      │ \n",
       "q_1: ─■─\n",
       "        </pre>"
      ],
      "text/plain": [
       "        \n",
       "q_0: ─■─\n",
       "      │ \n",
       "q_1: ─■─\n",
       "        "
      ]
     },
     "execution_count": 22,
     "metadata": {},
     "output_type": "execute_result"
    }
   ],
   "source": [
    "#oracle circuit\n",
    "oracleQ=QuantumCircuit(2,name='oracle')\n",
    "oracleQ.cz(0,1)\n",
    "oracleQ.to_gate()\n",
    "oracleQ.draw()"
   ]
  },
  {
   "cell_type": "code",
   "execution_count": 26,
   "id": "8cd91e36",
   "metadata": {},
   "outputs": [
    {
     "data": {
      "text/html": [
       "<pre style=\"word-wrap: normal;white-space: pre;background: #fff0;line-height: 1.1;font-family: &quot;Courier New&quot;,Courier,monospace\">     ┌───┐┌─────────┐\n",
       "q_0: ┤ H ├┤0        ├\n",
       "     ├───┤│  oracle │\n",
       "q_1: ┤ H ├┤1        ├\n",
       "     └───┘└─────────┘\n",
       "c: 2/════════════════\n",
       "                     </pre>"
      ],
      "text/plain": [
       "     ┌───┐┌─────────┐\n",
       "q_0: ┤ H ├┤0        ├\n",
       "     ├───┤│  oracle │\n",
       "q_1: ┤ H ├┤1        ├\n",
       "     └───┘└─────────┘\n",
       "c: 2/════════════════\n",
       "                     "
      ]
     },
     "execution_count": 26,
     "metadata": {},
     "output_type": "execute_result"
    }
   ],
   "source": [
    "#check oracle doing correct\n",
    "#using a statevector simulator\n",
    "backend=Aer.get_backend('statevector_simulator')\n",
    "grover_circ=QuantumCircuit(2,2)\n",
    "grover_circ.h([0,1])#create superposition state s\n",
    "grover_circ.append(oracleQ,[0,1])\n",
    "grover_circ.draw()"
   ]
  },
  {
   "cell_type": "code",
   "execution_count": 31,
   "id": "7e9fb5d6",
   "metadata": {},
   "outputs": [
    {
     "data": {
      "text/html": [
       "<pre style=\"word-wrap: normal;white-space: pre;background: #fff0;line-height: 1.1;font-family: &quot;Courier New&quot;,Courier,monospace\">     ┌───┐┌───┐   ┌───┐\n",
       "q_0: ┤ H ├┤ Z ├─■─┤ H ├\n",
       "     ├───┤├───┤ │ ├───┤\n",
       "q_1: ┤ H ├┤ Z ├─■─┤ H ├\n",
       "     └───┘└───┘   └───┘</pre>"
      ],
      "text/plain": [
       "     ┌───┐┌───┐   ┌───┐\n",
       "q_0: ┤ H ├┤ Z ├─■─┤ H ├\n",
       "     ├───┤├───┤ │ ├───┤\n",
       "q_1: ┤ H ├┤ Z ├─■─┤ H ├\n",
       "     └───┘└───┘   └───┘"
      ]
     },
     "execution_count": 31,
     "metadata": {},
     "output_type": "execute_result"
    }
   ],
   "source": [
    "job=execute(grover_circ,backend)\n",
    "result=job.result()\n",
    "\n",
    "sv=result.get_statevector()\n",
    "np.around(sv,2)\n",
    "##Now use reflection to reduce amplitude/prob of non-winning state and increase prob of winning state\n",
    "\n",
    "\"\"\"\n",
    "\n",
    "we have |w> winning state \n",
    "and |s> state (superposition)\n",
    "w, s arent orthogonal\n",
    "\n",
    "we can construct |t> such that w,t are orthogonal and s,t are not\n",
    "\n",
    "then plug |s> in oracle==>cause reflection about|t>==>project (|s><s|-1)==> move to wector closer to |w>\n",
    "\n",
    "repetedly apply==>amplitude max closer tow winner\n",
    "\"\"\"\n",
    "\n",
    "reflection=QuantumCircuit(2,name='reflection')\n",
    "reflection.h([0,1])\n",
    "reflection.z([0,1])\n",
    "reflection.cz(0,1)\n",
    "reflection.h([0,1])\n",
    "reflection.to_gate()\n",
    "reflection.draw()"
   ]
  },
  {
   "cell_type": "code",
   "execution_count": 35,
   "id": "37f2d9ff",
   "metadata": {},
   "outputs": [
    {
     "data": {
      "text/html": [
       "<pre style=\"word-wrap: normal;white-space: pre;background: #fff0;line-height: 1.1;font-family: &quot;Courier New&quot;,Courier,monospace\">     ┌───┐┌─────────┐┌─────────────┐┌─┐   \n",
       "q_0: ┤ H ├┤0        ├┤0            ├┤M├───\n",
       "     ├───┤│  oracle ││  reflection │└╥┘┌─┐\n",
       "q_1: ┤ H ├┤1        ├┤1            ├─╫─┤M├\n",
       "     └───┘└─────────┘└─────────────┘ ║ └╥┘\n",
       "c: 2/════════════════════════════════╩══╩═\n",
       "                                     0  1 </pre>"
      ],
      "text/plain": [
       "     ┌───┐┌─────────┐┌─────────────┐┌─┐   \n",
       "q_0: ┤ H ├┤0        ├┤0            ├┤M├───\n",
       "     ├───┤│  oracle ││  reflection │└╥┘┌─┐\n",
       "q_1: ┤ H ├┤1        ├┤1            ├─╫─┤M├\n",
       "     └───┘└─────────┘└─────────────┘ ║ └╥┘\n",
       "c: 2/════════════════════════════════╩══╩═\n",
       "                                     0  1 "
      ]
     },
     "execution_count": 35,
     "metadata": {},
     "output_type": "execute_result"
    }
   ],
   "source": [
    "backend=Aer.get_backend('qasm_simulator')\n",
    "grover_circ=QuantumCircuit(2,2)\n",
    "grover_circ.h([0,1])\n",
    "grover_circ.append(oracleQ,[0,1])\n",
    "grover_circ.append(reflection,[0,1])\n",
    "grover_circ.measure([0,1],[0,1])\n",
    "grover_circ.draw()"
   ]
  },
  {
   "cell_type": "code",
   "execution_count": 37,
   "id": "0907be15",
   "metadata": {},
   "outputs": [
    {
     "data": {
      "text/plain": [
       "{'11': 1}"
      ]
     },
     "execution_count": 37,
     "metadata": {},
     "output_type": "execute_result"
    }
   ],
   "source": [
    "job=execute(grover_circ,backend,shots=1)\n",
    "result=job.result()\n",
    "result.get_counts()##used 1 O(N^0.5)"
   ]
  },
  {
   "cell_type": "code",
   "execution_count": 40,
   "id": "df0046ba",
   "metadata": {},
   "outputs": [],
   "source": [
    "####Grovers algo to find constraint-optimisation by using search on all possibilities such that constraint held\n",
    "#boolean-satisfiability problem  ====> grover's search \n",
    "#encode in boolean kind of expresssion ::    (A and B) or (C and D) and not(A and D)\n"
   ]
  },
  {
   "cell_type": "code",
   "execution_count": 42,
   "id": "36166f87",
   "metadata": {},
   "outputs": [],
   "source": [
    "from qiskit import BasicAer\n",
    "from qiskit.aqua.algorithms import Grover\n",
    "from qiskit.aqua.components.oracles import LogicalExpressionOracle\n",
    "from qiskit.tools.visualization import plot_histogram\n"
   ]
  },
  {
   "cell_type": "code",
   "execution_count": 43,
   "id": "80cc2712",
   "metadata": {},
   "outputs": [],
   "source": [
    "log_expr='((A & B) | (C & D)) & ~(B & D)'#logical expression"
   ]
  },
  {
   "cell_type": "code",
   "execution_count": 44,
   "id": "9d562162",
   "metadata": {},
   "outputs": [],
   "source": [
    "algo=Grover(LogicalExpressionOracle(log_expr))\n",
    "backend=BasicAer.get_backend('qasm_simulator')"
   ]
  },
  {
   "cell_type": "code",
   "execution_count": 49,
   "id": "b28fa325",
   "metadata": {},
   "outputs": [
    {
     "data": {
      "image/png": "[encoded data removed]",
      "text/plain": [
       "<Figure size 504x360 with 1 Axes>"
      ]
     },
     "execution_count": 49,
     "metadata": {},
     "output_type": "execute_result"
    }
   ],
   "source": [
    "result=algo.run(backend)\n",
    "plot_histogram(result['measurement'],title='possible combination')"
   ]
  },
  {
   "cell_type": "code",
   "execution_count": 51,
   "id": "fce64134",
   "metadata": {},
   "outputs": [],
   "source": [
    "###QSVM\n",
    "#Q-ML"
   ]
  },
  {
   "cell_type": "code",
   "execution_count": 55,
   "id": "8388cc79",
   "metadata": {},
   "outputs": [],
   "source": [
    "import qiskit\n",
    "from matplotlib import pyplot as plt\n",
    "import numpy as np\n",
    "from qiskit.ml.datasets import ad_hoc_data\n",
    "from qiskit import BasicAer#basic aer simulator\n",
    "from qiskit.aqua import QuantumInstance#experiment\n",
    "from qiskit.circuit.library import ZZFeatureMap\n",
    "from qiskit.aqua.algorithms import QSVM\n",
    "from qiskit.aqua.utils import split_dataset_to_data_and_labels, map_label_to_class_name"
   ]
  },
  {
   "cell_type": "code",
   "execution_count": 58,
   "id": "01e6df13",
   "metadata": {},
   "outputs": [
    {
     "data": {
      "image/png": "[encoded data removed]",
      "text/plain": [
       "<Figure size 432x288 with 1 Axes>"
      ]
     },
     "metadata": {
      "needs_background": "light"
     },
     "output_type": "display_data"
    },
    {
     "name": "stdout",
     "output_type": "stream",
     "text": [
      "{'A': 0, 'B': 1}\n"
     ]
    }
   ],
   "source": [
    "feature_dim=2\n",
    "train_data_size=20\n",
    "test_data_size=10\n",
    "random_seed=10598\n",
    "shot=10000\n",
    "\n",
    "sample_total,train_input,test_input,class_labels=ad_hoc_data(training_size=train_data_size,test_size=test_data_size,gap=0.3,n=feature_dim,plot_data=True)\n",
    "datapoints,class_to_label=split_dataset_to_data_and_labels(test_input)\n",
    "print(class_to_label)"
   ]
  },
  {
   "cell_type": "code",
   "execution_count": 60,
   "id": "fc19444a",
   "metadata": {},
   "outputs": [],
   "source": [
    "backend=BasicAer.get_backend('qasm_simulator')\n",
    "feature_map=ZZFeatureMap(feature_dim,reps=2)\n",
    "svm=QSVM(feature_map,train_input,test_input,None)\n",
    "svm.random_seed=random_seed\n",
    "quantum_instance=QuantumInstance(backend,shots=shot,seed_simulator=random_seed,seed_transpiler=random_seed)\n",
    "result=svm.run(quantum_instance)"
   ]
  },
  {
   "cell_type": "code",
   "execution_count": 61,
   "id": "baab0e36",
   "metadata": {},
   "outputs": [
    {
     "name": "stdout",
     "output_type": "stream",
     "text": [
      "kernel matrix during train\n"
     ]
    },
    {
     "data": {
      "image/png": "[encoded data removed]",
      "text/plain": [
       "<Figure size 432x288 with 1 Axes>"
      ]
     },
     "metadata": {
      "needs_background": "light"
     },
     "output_type": "display_data"
    }
   ],
   "source": [
    "print('kernel matrix during train')\n",
    "kernel_matrix=result['kernel_matrix_training']\n",
    "img=plt.imshow(np.asmatrix(kernel_matrix),interpolation='nearest',origin='upper')\n",
    "plt.show()"
   ]
  },
  {
   "cell_type": "code",
   "execution_count": 62,
   "id": "26e4c4bb",
   "metadata": {},
   "outputs": [
    {
     "name": "stdout",
     "output_type": "stream",
     "text": [
      "ground truth: [0 0 0 0 0 0 0 0 0 0 1 1 1 1 1 1 1 1 1 1]\n",
      "prediction: {} [0 0 0 0 0 0 0 0 0 0 1 1 1 1 1 1 1 1 1 1]\n",
      "success ratio:  1.0\n"
     ]
    }
   ],
   "source": [
    "predicted_labels=svm.predict(datapoints[0])\n",
    "predicted_classes=map_label_to_class_name(predicted_labels,svm.label_to_class)\n",
    "\n",
    "print(\"ground truth: {}\".format(datapoints[1]))\n",
    "print(\"prediction: {}\",format(predicted_labels))\n",
    "print(\"success ratio: \",result['testing_accuracy'])"
   ]
  },
  {
   "cell_type": "code",
   "execution_count": null,
   "id": "86cc0fb9",
   "metadata": {},
   "outputs": [],
   "source": []
  }
 ],
 "metadata": {
  "kernelspec": {
   "display_name": "Python 3 (ipykernel)",
   "language": "python",
   "name": "python3"
  },
  "language_info": {
   "codemirror_mode": {
    "name": "ipython",
    "version": 3
   },
   "file_extension": ".py",
   "mimetype": "text/x-python",
   "name": "python",
   "nbconvert_exporter": "python",
   "pygments_lexer": "ipython3",
   "version": "3.9.7"
  }
 },
 "nbformat": 4,
 "nbformat_minor": 5
}
