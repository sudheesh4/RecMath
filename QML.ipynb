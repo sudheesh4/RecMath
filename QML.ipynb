{
 "cells": [
  {
   "cell_type": "code",
   "execution_count": 78,
   "id": "345adb2c",
   "metadata": {},
   "outputs": [],
   "source": [
    "from sklearn import model_selection, datasets, svm\n",
    "from qiskit import QuantumCircuit, Aer, IBMQ, QuantumRegister, ClassicalRegister\n",
    "import qiskit\n",
    "import numpy as np\n",
    "import copy"
   ]
  },
  {
   "cell_type": "code",
   "execution_count": 45,
   "id": "09a12238",
   "metadata": {},
   "outputs": [],
   "source": [
    "iris=datasets.load_iris()#binaryy-clssification using quatum svm\n",
    "X=iris.data[0:100]\n",
    "Y=iris.target[0:100]\n",
    "X_train,X_test,Y_train,Y_test=model_selection.train_test_split(X,Y,test_size=0.33,random_state=42)"
   ]
  },
  {
   "cell_type": "code",
   "execution_count": 94,
   "id": "28ddda0b",
   "metadata": {},
   "outputs": [
    {
     "name": "stdout",
     "output_type": "stream",
     "text": [
      "0\n",
      "[5.2 3.4 1.4 0.2]\n"
     ]
    }
   ],
   "source": [
    "print(Y_train[0])#classifying between two classes of flowers\n",
    "print(X_train[0])\n",
    "N=4#number of features"
   ]
  },
  {
   "cell_type": "code",
   "execution_count": 95,
   "id": "321b2b28",
   "metadata": {},
   "outputs": [
    {
     "data": {
      "text/html": [
       "<pre style=\"word-wrap: normal;white-space: pre;background: #fff0;line-height: 1.1;font-family: &quot;Courier New&quot;,Courier,monospace\">           \n",
       "q197344_0: \n",
       "           \n",
       "q197344_1: \n",
       "           \n",
       "q197344_2: \n",
       "           \n",
       "q197344_3: \n",
       "           \n",
       " c15196: 1/\n",
       "           </pre>"
      ],
      "text/plain": [
       "           \n",
       "q197344_0: \n",
       "           \n",
       "q197344_1: \n",
       "           \n",
       "q197344_2: \n",
       "           \n",
       "q197344_3: \n",
       "           \n",
       " c15196: 1/\n",
       "           "
      ]
     },
     "execution_count": 95,
     "metadata": {},
     "output_type": "execute_result"
    }
   ],
   "source": [
    "q=QuantumRegister(N)#number of qubits in quantum-circuit== number of features\n",
    "c= ClassicalRegister(1)#single register which will have output\n",
    "\n",
    "qc=QuantumCircuit(q,c)\n",
    "qc.draw()"
   ]
  },
  {
   "cell_type": "code",
   "execution_count": 96,
   "id": "afb87726",
   "metadata": {},
   "outputs": [],
   "source": [
    "#for i,x in enumerate(X_train[0]):\n",
    "  #  qc.rx(x,i)#rotate qubit by 4 features of a sinle flower(datapoint)\n",
    "#qc.draw()####feature data mapped onto qubit state\n"
   ]
  },
  {
   "cell_type": "code",
   "execution_count": 97,
   "id": "77317728",
   "metadata": {},
   "outputs": [],
   "source": [
    "def feature_map(X):\n",
    "    q=QuantumRegister(N)\n",
    "    c=ClassicalRegister(1)\n",
    "    qc=QuantumCircuit(q,c)\n",
    "    for i,x in enumerate(X):\n",
    "        qc.rx(x,i)\n",
    "    return (qc,c)"
   ]
  },
  {
   "cell_type": "code",
   "execution_count": 98,
   "id": "4e92415e",
   "metadata": {},
   "outputs": [
    {
     "data": {
      "text/html": [
       "<pre style=\"word-wrap: normal;white-space: pre;background: #fff0;line-height: 1.1;font-family: &quot;Courier New&quot;,Courier,monospace\">           ┌─────────┐\n",
       "q197345_0: ┤ Rx(5.6) ├\n",
       "           └┬───────┬┘\n",
       "q197345_1: ─┤ Rx(3) ├─\n",
       "           ┌┴───────┴┐\n",
       "q197345_2: ┤ Rx(4.5) ├\n",
       "           ├─────────┤\n",
       "q197345_3: ┤ Rx(1.5) ├\n",
       "           └─────────┘\n",
       " c15197: 1/═══════════\n",
       "                      </pre>"
      ],
      "text/plain": [
       "           ┌─────────┐\n",
       "q197345_0: ┤ Rx(5.6) ├\n",
       "           └┬───────┬┘\n",
       "q197345_1: ─┤ Rx(3) ├─\n",
       "           ┌┴───────┴┐\n",
       "q197345_2: ┤ Rx(4.5) ├\n",
       "           ├─────────┤\n",
       "q197345_3: ┤ Rx(1.5) ├\n",
       "           └─────────┘\n",
       " c15197: 1/═══════════\n",
       "                      "
      ]
     },
     "execution_count": 98,
     "metadata": {},
     "output_type": "execute_result"
    }
   ],
   "source": [
    "qc,c=feature_map(X_train[3])\n",
    "qc.draw()"
   ]
  },
  {
   "cell_type": "code",
   "execution_count": 99,
   "id": "54aa17dd",
   "metadata": {},
   "outputs": [
    {
     "data": {
      "text/html": [
       "<pre style=\"word-wrap: normal;white-space: pre;background: #fff0;line-height: 1.1;font-family: &quot;Courier New&quot;,Courier,monospace\">           ┌─────────┐┌─┐\n",
       "q197345_0: ┤ Rx(5.6) ├┤M├\n",
       "           └┬───────┬┘└╥┘\n",
       "q197345_1: ─┤ Rx(3) ├──╫─\n",
       "           ┌┴───────┴┐ ║ \n",
       "q197345_2: ┤ Rx(4.5) ├─╫─\n",
       "           ├─────────┤ ║ \n",
       "q197345_3: ┤ Rx(1.5) ├─╫─\n",
       "           └─────────┘ ║ \n",
       " c15197: 1/════════════╩═\n",
       "                       0 </pre>"
      ],
      "text/plain": [
       "           ┌─────────┐┌─┐\n",
       "q197345_0: ┤ Rx(5.6) ├┤M├\n",
       "           └┬───────┬┘└╥┘\n",
       "q197345_1: ─┤ Rx(3) ├──╫─\n",
       "           ┌┴───────┴┐ ║ \n",
       "q197345_2: ┤ Rx(4.5) ├─╫─\n",
       "           ├─────────┤ ║ \n",
       "q197345_3: ┤ Rx(1.5) ├─╫─\n",
       "           └─────────┘ ║ \n",
       " c15197: 1/════════════╩═\n",
       "                       0 "
      ]
     },
     "execution_count": 99,
     "metadata": {},
     "output_type": "execute_result"
    }
   ],
   "source": [
    "#now we need to measure \n",
    "qc.measure(0,c)#measure 0 qubit and store in clasical register c\n",
    "qc.draw()"
   ]
  },
  {
   "cell_type": "code",
   "execution_count": 100,
   "id": "d46dc94a",
   "metadata": {},
   "outputs": [],
   "source": [
    "def variational_circuit(qc,theta):\n",
    "    for i in range(N-1):\n",
    "        qc.cnot(i,i+1)\n",
    "    qc.cnot(N-1,0)\n",
    "    for i in range(N):\n",
    "        qc.ry(theta[i],i)\n",
    "    return qc\n"
   ]
  },
  {
   "cell_type": "code",
   "execution_count": 101,
   "id": "4df71f6f",
   "metadata": {},
   "outputs": [
    {
     "data": {
      "text/html": [
       "<pre style=\"word-wrap: normal;white-space: pre;background: #fff0;line-height: 1.1;font-family: &quot;Courier New&quot;,Courier,monospace\">           ┌─────────┐ ░                          ┌───┐┌──────────────┐ ░ ┌─┐\n",
       "q197346_0: ┤ Rx(5.6) ├─░───■──────────────────────┤ X ├┤ Ry(0.065557) ├─░─┤M├\n",
       "           └┬───────┬┘ ░ ┌─┴─┐     ┌─────────────┐└─┬─┘└──────────────┘ ░ └╥┘\n",
       "q197346_1: ─┤ Rx(3) ├──░─┤ X ├──■──┤ Ry(0.99278) ├──┼───────────────────░──╫─\n",
       "           ┌┴───────┴┐ ░ └───┘┌─┴─┐└─────────────┘  │  ┌─────────────┐  ░  ║ \n",
       "q197346_2: ┤ Rx(4.5) ├─░──────┤ X ├───────■─────────┼──┤ Ry(0.85833) ├──░──╫─\n",
       "           ├─────────┤ ░      └───┘     ┌─┴─┐       │  ├─────────────┤  ░  ║ \n",
       "q197346_3: ┤ Rx(1.5) ├─░────────────────┤ X ├───────■──┤ Ry(0.80351) ├──░──╫─\n",
       "           └─────────┘ ░                └───┘          └─────────────┘  ░  ║ \n",
       " c15198: 1/════════════════════════════════════════════════════════════════╩═\n",
       "                                                                           0 </pre>"
      ],
      "text/plain": [
       "           ┌─────────┐ ░                          ┌───┐┌──────────────┐ ░ ┌─┐\n",
       "q197346_0: ┤ Rx(5.6) ├─░───■──────────────────────┤ X ├┤ Ry(0.065557) ├─░─┤M├\n",
       "           └┬───────┬┘ ░ ┌─┴─┐     ┌─────────────┐└─┬─┘└──────────────┘ ░ └╥┘\n",
       "q197346_1: ─┤ Rx(3) ├──░─┤ X ├──■──┤ Ry(0.99278) ├──┼───────────────────░──╫─\n",
       "           ┌┴───────┴┐ ░ └───┘┌─┴─┐└─────────────┘  │  ┌─────────────┐  ░  ║ \n",
       "q197346_2: ┤ Rx(4.5) ├─░──────┤ X ├───────■─────────┼──┤ Ry(0.85833) ├──░──╫─\n",
       "           ├─────────┤ ░      └───┘     ┌─┴─┐       │  ├─────────────┤  ░  ║ \n",
       "q197346_3: ┤ Rx(1.5) ├─░────────────────┤ X ├───────■──┤ Ry(0.80351) ├──░──╫─\n",
       "           └─────────┘ ░                └───┘          └─────────────┘  ░  ║ \n",
       " c15198: 1/════════════════════════════════════════════════════════════════╩═\n",
       "                                                                           0 "
      ]
     },
     "execution_count": 101,
     "metadata": {},
     "output_type": "execute_result"
    }
   ],
   "source": [
    "qc,c=feature_map(X_train[3])\n",
    "qc.barrier()\n",
    "\n",
    "qc=variational_circuit(qc,np.random.rand(N))\n",
    "\n",
    "qc.barrier()\n",
    "\n",
    "qc.measure(0,c)\n",
    "qc.draw()####idea is to lean the rotation-angles in variational_ircuit ie theta such that q_ircuit performs"
   ]
  },
  {
   "cell_type": "code",
   "execution_count": 102,
   "id": "d90e78e8",
   "metadata": {},
   "outputs": [
    {
     "name": "stdout",
     "output_type": "stream",
     "text": [
      "{'0': 5036, '1': 4964}\n",
      "0.4964\n"
     ]
    }
   ],
   "source": [
    "shots=1E4\n",
    "backend=Aer.get_backend('qasm_simulator')\n",
    "job=qiskit.execute(qc,backend,shots=shots)\n",
    "result=job.result()\n",
    "counts=result.get_counts(qc)\n",
    "print(counts)\n",
    "print(counts['1']/shots)#result of circuit "
   ]
  },
  {
   "cell_type": "code",
   "execution_count": 103,
   "id": "57b2b7ee",
   "metadata": {},
   "outputs": [],
   "source": [
    "def quantum_nn(X,theta,simulator=True):\n",
    "    qc,c=feature_map(X)\n",
    "    qc.barrier()\n",
    "    qc=variational_circuit(qc,theta)\n",
    "    qc.barrier()\n",
    "    qc.measure(0,c)\n",
    "    shots=1E4\n",
    "    backend=Aer.get_backend('qasm_simulator')\n",
    "    \n",
    "    if simulator==False:\n",
    "        shots=5000\n",
    "        provider=IBMQ.load_account()\n",
    "        nackend=provider.get_backend('')\n",
    "\n",
    "    \n",
    "    job=qiskit.execute(qc,backend,shots=shots)\n",
    "    result=job.result()\n",
    "    counts=result.get_counts(qc)\n",
    "    return counts['1']/shots"
   ]
  },
  {
   "cell_type": "code",
   "execution_count": 104,
   "id": "c085b153",
   "metadata": {},
   "outputs": [],
   "source": [
    "def loss(prediction,target):\n",
    "    return (prediction-target)**2"
   ]
  },
  {
   "cell_type": "code",
   "execution_count": 105,
   "id": "a173527c",
   "metadata": {},
   "outputs": [],
   "source": [
    "prediction=quantum_nn(X_train[6],np.random.rand(N))\n",
    "target=Y_train[6]\n",
    "###minimise loss to train theta"
   ]
  },
  {
   "cell_type": "raw",
   "id": "42e2d655",
   "metadata": {},
   "source": [
    "\n"
   ]
  },
  {
   "cell_type": "code",
   "execution_count": 92,
   "id": "34379ab5",
   "metadata": {},
   "outputs": [
    {
     "name": "stdout",
     "output_type": "stream",
     "text": [
      "0 \\ t 0.292 \t 0.134\n",
      "1 \\ t 0.292 \t 0.164\n",
      "2 \\ t 0.296 \t 0.194\n",
      "3 \\ t 0.282 \t 0.179\n",
      "4 \\ t 0.278 \t 0.164\n",
      "5 \\ t 0.256 \t 0.821\n",
      "6 \\ t 0.227 \t 0.791\n",
      "7 \\ t 0.227 \t 0.776\n",
      "8 \\ t 0.230 \t 0.791\n",
      "9 \\ t 0.209 \t 0.851\n"
     ]
    }
   ],
   "source": [
    "def gradient(X,Y,theta):\n",
    "    delta=0.01\n",
    "    grad=[]\n",
    "    for i in range(len(theta)):\n",
    "        dtheta=copy.copy(theta)\n",
    "        dtheta[i]+=delta\n",
    "        pred1=quantum_nn(X,dtheta)\n",
    "        pred2=quantum_nn(X,theta)\n",
    "        \n",
    "        grad.append((loss(pred1,Y)-loss(pred2,Y))/delta)\n",
    "    return np.array(grad)\n",
    "\n",
    "def accuracy(X,Y,theta):\n",
    "    counter=0\n",
    "    for X_i,Y_i in zip(X,Y):\n",
    "        predict=quantum_nn(X_i,theta)\n",
    "        if predict<0.5 and Y_i==0:\n",
    "            counter+=1\n",
    "        elif predict>=0.5 and Y_i==1:\n",
    "            counter+=1\n",
    "    return counter/len(Y)\n",
    "\n",
    "\n",
    "eta=0.05\n",
    "theta=np.random.rand(N)\n",
    "losslist=[]\n",
    "\n",
    "for i in range(10):\n",
    "    losstmp=[]\n",
    "    for X_i,Y_i in zip(X_train,Y_train):\n",
    "        predict=quantum_nn(X_i,theta)\n",
    "        losstmp.append(loss(predict,Y_i))\n",
    "        #update theta using stochastic gradient descent\n",
    "        theta=theta-eta*gradient(X_i,Y_i,theta)\n",
    "    losslist.append(np.mean(losstmp))\n",
    "    acc=accuracy(X_train,Y_train,theta)\n",
    "    print(f'{i} \\ t {losslist[-1] :.3f} \\t {acc:.3f}')"
   ]
  },
  {
   "cell_type": "code",
   "execution_count": 93,
   "id": "2be260c6",
   "metadata": {},
   "outputs": [
    {
     "data": {
      "text/plain": [
       "0.7878787878787878"
      ]
     },
     "execution_count": 93,
     "metadata": {},
     "output_type": "execute_result"
    }
   ],
   "source": [
    "accuracy(X_test,Y_test,theta)"
   ]
  },
  {
   "cell_type": "code",
   "execution_count": null,
   "id": "6c7ae039",
   "metadata": {},
   "outputs": [],
   "source": []
  }
 ],
 "metadata": {
  "kernelspec": {
   "display_name": "Python 3 (ipykernel)",
   "language": "python",
   "name": "python3"
  },
  "language_info": {
   "codemirror_mode": {
    "name": "ipython",
    "version": 3
   },
   "file_extension": ".py",
   "mimetype": "text/x-python",
   "name": "python",
   "nbconvert_exporter": "python",
   "pygments_lexer": "ipython3",
   "version": "3.9.7"
  }
 },
 "nbformat": 4,
 "nbformat_minor": 5
}
